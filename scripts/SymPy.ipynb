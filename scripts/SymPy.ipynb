{
 "cells": [
  {
   "cell_type": "code",
   "execution_count": 135,
   "id": "175e7274-1463-49f4-ae6a-71d6807be538",
   "metadata": {
    "tags": []
   },
   "outputs": [],
   "source": [
    "from sympy import *\n",
    "from sympy.physics.units import *\n",
    "from sympy.physics.units import convert_to\n",
    "\n",
    "import pint\n",
    "ureg = pint.UnitRegistry()"
   ]
  },
  {
   "cell_type": "code",
   "execution_count": 90,
   "id": "c9b97f7b-f86a-452e-8aa5-4a236dac4d78",
   "metadata": {
    "collapsed": true,
    "jupyter": {
     "outputs_hidden": true
    },
    "tags": []
   },
   "outputs": [
    {
     "data": {
      "text/latex": [
       "$\\displaystyle \\frac{0.1}{\\text{s}}$"
      ],
      "text/plain": [
       "0.1/second"
      ]
     },
     "metadata": {},
     "output_type": "display_data"
    },
    {
     "name": "stdout",
     "output_type": "stream",
     "text": [
      "The siunitx representation is \\SI[]{0.1}{\\per\\second}\n"
     ]
    }
   ],
   "source": [
    "x_1s, y_1s = sp.symbols(\"x_1 y_1\")\n",
    "x_1e = sp.sympify(x_1s / (10*m*kg*s), evaluate = False)\n",
    "x_1ee = x_1 / (10*m*kg*s)\n",
    "\n",
    "# x_1 = 5*m\n",
    "# y_1 = 10*m\n",
    "# a = sp.sympify(\"x_1 * (y_1 / 5)\", evaluate = False)\n",
    "# display(Math(latex(a, mul_symbol='dot')))\n",
    "displayexp = x_1ee.subs(x_1, 1000*m*g).simplify().n(3)\n",
    "display(displayexp)\n",
    "\n",
    "\n",
    "latexexpr = ureg(str(displayexp))\n",
    "print('The siunitx representation is {:Lx}'.format(latexexpr))"
   ]
  },
  {
   "cell_type": "code",
   "execution_count": 171,
   "id": "ac77154b-7d46-431b-92ec-eb597ab048cd",
   "metadata": {
    "tags": []
   },
   "outputs": [
    {
     "name": "stdout",
     "output_type": "stream",
     "text": [
      "{}\n",
      "20.0*millimeter\n",
      "{'x_l': 20.0}\n",
      "0.5*20.0\n"
     ]
    },
    {
     "ename": "AttributeError",
     "evalue": "'float' object has no attribute 'magnitude'",
     "output_type": "error",
     "traceback": [
      "\u001b[0;31m---------------------------------------------------------------------------\u001b[0m",
      "\u001b[0;31mAttributeError\u001b[0m                            Traceback (most recent call last)",
      "\u001b[0;32m/var/folders/9f/fmc87g9519d2v82wjw8bp9lm0000gn/T/ipykernel_79396/4276094812.py\u001b[0m in \u001b[0;36m<module>\u001b[0;34m\u001b[0m\n\u001b[1;32m     62\u001b[0m \u001b[0mP\u001b[0m \u001b[0;34m=\u001b[0m \u001b[0mParameterCollection\u001b[0m\u001b[0;34m(\u001b[0m\u001b[0;34m)\u001b[0m\u001b[0;34m\u001b[0m\u001b[0;34m\u001b[0m\u001b[0m\n\u001b[1;32m     63\u001b[0m \u001b[0mP\u001b[0m\u001b[0;34m.\u001b[0m\u001b[0madd\u001b[0m\u001b[0;34m(\u001b[0m\u001b[0;34m\"xCoord\"\u001b[0m\u001b[0;34m,\u001b[0m \u001b[0;34m\"x_l\"\u001b[0m\u001b[0;34m,\u001b[0m \u001b[0;36m20\u001b[0m\u001b[0;34m*\u001b[0m\u001b[0mmm\u001b[0m\u001b[0;34m,\u001b[0m \u001b[0mmm\u001b[0m\u001b[0;34m,\u001b[0m \u001b[0;34m\"none\"\u001b[0m\u001b[0;34m)\u001b[0m\u001b[0;34m\u001b[0m\u001b[0;34m\u001b[0m\u001b[0m\n\u001b[0;32m---> 64\u001b[0;31m \u001b[0mP\u001b[0m\u001b[0;34m.\u001b[0m\u001b[0madd\u001b[0m\u001b[0;34m(\u001b[0m\u001b[0;34m\"yCoord\"\u001b[0m\u001b[0;34m,\u001b[0m \u001b[0;34m\"y_l\"\u001b[0m\u001b[0;34m,\u001b[0m \u001b[0mx_l\u001b[0m \u001b[0;34m/\u001b[0m \u001b[0;36m2\u001b[0m\u001b[0;34m,\u001b[0m \u001b[0mmm\u001b[0m\u001b[0;34m,\u001b[0m \u001b[0;34m\"none\"\u001b[0m\u001b[0;34m)\u001b[0m\u001b[0;34m\u001b[0m\u001b[0;34m\u001b[0m\u001b[0m\n\u001b[0m\u001b[1;32m     65\u001b[0m \u001b[0mP\u001b[0m\u001b[0;34m.\u001b[0m\u001b[0madd\u001b[0m\u001b[0;34m(\u001b[0m\u001b[0;34m\"overallLength\"\u001b[0m\u001b[0;34m,\u001b[0m \u001b[0;34m\"l\"\u001b[0m\u001b[0;34m,\u001b[0m \u001b[0msqrt\u001b[0m\u001b[0;34m(\u001b[0m\u001b[0mxCoord\u001b[0m \u001b[0;34m**\u001b[0m \u001b[0;36m2\u001b[0m \u001b[0;34m+\u001b[0m \u001b[0myCoord\u001b[0m \u001b[0;34m**\u001b[0m \u001b[0;36m2\u001b[0m\u001b[0;34m)\u001b[0m\u001b[0;34m,\u001b[0m \u001b[0mmm\u001b[0m\u001b[0;34m,\u001b[0m \u001b[0;34m\"none\"\u001b[0m\u001b[0;34m)\u001b[0m\u001b[0;34m\u001b[0m\u001b[0;34m\u001b[0m\u001b[0m\n\u001b[1;32m     66\u001b[0m \u001b[0;34m\u001b[0m\u001b[0m\n",
      "\u001b[0;32m/var/folders/9f/fmc87g9519d2v82wjw8bp9lm0000gn/T/ipykernel_79396/4276094812.py\u001b[0m in \u001b[0;36madd\u001b[0;34m(self, name, symbol, expression, unit, description)\u001b[0m\n\u001b[1;32m     10\u001b[0m             \u001b[0;32mraise\u001b[0m \u001b[0mValueError\u001b[0m\u001b[0;34m(\u001b[0m\u001b[0;34m'Error adding new parameter: Parameter symbol already exists! Choose another name.'\u001b[0m\u001b[0;34m)\u001b[0m\u001b[0;34m\u001b[0m\u001b[0;34m\u001b[0m\u001b[0m\n\u001b[1;32m     11\u001b[0m \u001b[0;34m\u001b[0m\u001b[0m\n\u001b[0;32m---> 12\u001b[0;31m         \u001b[0mnewParameter\u001b[0m \u001b[0;34m=\u001b[0m \u001b[0mParameter\u001b[0m\u001b[0;34m(\u001b[0m\u001b[0mname\u001b[0m\u001b[0;34m,\u001b[0m \u001b[0msymbol\u001b[0m\u001b[0;34m,\u001b[0m \u001b[0mexpression\u001b[0m\u001b[0;34m,\u001b[0m \u001b[0munit\u001b[0m\u001b[0;34m,\u001b[0m \u001b[0mdescription\u001b[0m\u001b[0;34m,\u001b[0m \u001b[0mself\u001b[0m\u001b[0;34m)\u001b[0m\u001b[0;34m\u001b[0m\u001b[0;34m\u001b[0m\u001b[0m\n\u001b[0m\u001b[1;32m     13\u001b[0m         \u001b[0mself\u001b[0m\u001b[0;34m[\u001b[0m\u001b[0mname\u001b[0m\u001b[0;34m]\u001b[0m \u001b[0;34m=\u001b[0m \u001b[0mnewParameter\u001b[0m\u001b[0;34m\u001b[0m\u001b[0;34m\u001b[0m\u001b[0m\n\u001b[1;32m     14\u001b[0m         \u001b[0mself\u001b[0m\u001b[0;34m[\u001b[0m\u001b[0msymbol\u001b[0m\u001b[0;34m]\u001b[0m \u001b[0;34m=\u001b[0m \u001b[0mnewParameter\u001b[0m\u001b[0;34m\u001b[0m\u001b[0;34m\u001b[0m\u001b[0m\n",
      "\u001b[0;32m/var/folders/9f/fmc87g9519d2v82wjw8bp9lm0000gn/T/ipykernel_79396/4276094812.py\u001b[0m in \u001b[0;36m__init__\u001b[0;34m(self, name, symbol, expression, unit, description, parentCollection)\u001b[0m\n\u001b[1;32m     41\u001b[0m         \u001b[0mself\u001b[0m\u001b[0;34m.\u001b[0m\u001b[0mdescriptionDisplayed\u001b[0m \u001b[0;34m=\u001b[0m \u001b[0;32mFalse\u001b[0m\u001b[0;34m\u001b[0m\u001b[0;34m\u001b[0m\u001b[0m\n\u001b[1;32m     42\u001b[0m \u001b[0;34m\u001b[0m\u001b[0m\n\u001b[0;32m---> 43\u001b[0;31m         \u001b[0mself\u001b[0m\u001b[0;34m.\u001b[0m\u001b[0mevaluate\u001b[0m\u001b[0;34m(\u001b[0m\u001b[0;34m)\u001b[0m\u001b[0;34m\u001b[0m\u001b[0;34m\u001b[0m\u001b[0m\n\u001b[0m\u001b[1;32m     44\u001b[0m \u001b[0;34m\u001b[0m\u001b[0m\n\u001b[1;32m     45\u001b[0m     \u001b[0;32mdef\u001b[0m \u001b[0mexp\u001b[0m\u001b[0;34m(\u001b[0m\u001b[0mself\u001b[0m\u001b[0;34m)\u001b[0m\u001b[0;34m:\u001b[0m\u001b[0;34m\u001b[0m\u001b[0;34m\u001b[0m\u001b[0m\n",
      "\u001b[0;32m/var/folders/9f/fmc87g9519d2v82wjw8bp9lm0000gn/T/ipykernel_79396/4276094812.py\u001b[0m in \u001b[0;36mevaluate\u001b[0;34m(self, precision)\u001b[0m\n\u001b[1;32m     58\u001b[0m         \u001b[0mexpression\u001b[0m \u001b[0;34m=\u001b[0m \u001b[0mself\u001b[0m\u001b[0;34m.\u001b[0m\u001b[0msubstitute\u001b[0m\u001b[0;34m(\u001b[0m\u001b[0;32mTrue\u001b[0m\u001b[0;34m)\u001b[0m\u001b[0;34m.\u001b[0m\u001b[0mn\u001b[0m\u001b[0;34m(\u001b[0m\u001b[0mprecision\u001b[0m\u001b[0;34m)\u001b[0m\u001b[0;34m\u001b[0m\u001b[0;34m\u001b[0m\u001b[0m\n\u001b[1;32m     59\u001b[0m         \u001b[0mprint\u001b[0m\u001b[0;34m(\u001b[0m\u001b[0mexpression\u001b[0m\u001b[0;34m)\u001b[0m\u001b[0;34m\u001b[0m\u001b[0;34m\u001b[0m\u001b[0m\n\u001b[0;32m---> 60\u001b[0;31m         \u001b[0mself\u001b[0m\u001b[0;34m.\u001b[0m\u001b[0mvalue\u001b[0m \u001b[0;34m=\u001b[0m \u001b[0mureg\u001b[0m\u001b[0;34m(\u001b[0m\u001b[0mstr\u001b[0m\u001b[0;34m(\u001b[0m\u001b[0mexpression\u001b[0m\u001b[0;34m)\u001b[0m\u001b[0;34m)\u001b[0m\u001b[0;34m.\u001b[0m\u001b[0mmagnitude\u001b[0m\u001b[0;34m\u001b[0m\u001b[0;34m\u001b[0m\u001b[0m\n\u001b[0m\u001b[1;32m     61\u001b[0m \u001b[0;34m\u001b[0m\u001b[0m\n\u001b[1;32m     62\u001b[0m \u001b[0mP\u001b[0m \u001b[0;34m=\u001b[0m \u001b[0mParameterCollection\u001b[0m\u001b[0;34m(\u001b[0m\u001b[0;34m)\u001b[0m\u001b[0;34m\u001b[0m\u001b[0;34m\u001b[0m\u001b[0m\n",
      "\u001b[0;31mAttributeError\u001b[0m: 'float' object has no attribute 'magnitude'"
     ]
    }
   ],
   "source": [
    "class ParameterCollection(dict):\n",
    "    def __init__(self):\n",
    "        self.declaredSymbols = set()\n",
    "        \n",
    "    def add(self, name, symbol, expression, unit, description):\n",
    "        declaredSymbols = set(map(lambda symbol: str(symbol), list(self.declaredSymbols)))\n",
    "        \n",
    "        if symbol in declaredSymbols:\n",
    "            raise ValueError('Error adding new parameter: Parameter symbol already exists! Choose another name.')\n",
    "        \n",
    "        newParameter = Parameter(name, symbol, expression, unit, description, self)\n",
    "        self[name] = newParameter\n",
    "        self[symbol] = newParameter\n",
    "        self.declaredSymbols.add(newParameter.symbol)\n",
    "        return newParameter\n",
    "    \n",
    "class Parameter:\n",
    "    defaultPrecision = 3\n",
    "    \n",
    "    def __init__(self, name, symbol, expression, unit, description, parentCollection):\n",
    "        self.parentCollection = parentCollection\n",
    "        \n",
    "        self.name = name\n",
    "        self.symbol = sympy.Symbol(symbol)\n",
    "        globals()[symbol] = self.symbol\n",
    "        globals()[name] = self.symbol\n",
    "        \n",
    "        self.subscriptItalics = []\n",
    "        \n",
    "        self.expressionList = []\n",
    "        self.expressionList.append(sympy.sympify(expression, evaluate = False))\n",
    "        \n",
    "        self.dependencies = self.depsFromExp(self.exp())\n",
    "        \n",
    "        self.unit = ureg(str(unit))\n",
    "        \n",
    "        self.description = description\n",
    "        self.descriptionDisplayed = False\n",
    "        \n",
    "        self.evaluate()\n",
    "    \n",
    "    def depsFromExp(self, expression):\n",
    "        unfilteredSymbols = set(self.exp().atoms(sympy.Symbol))\n",
    "        declaredSymbols = self.parentCollection.declaredSymbols\n",
    "        return unfilteredSymbols & declaredSymbols\n",
    "    \n",
    "    def unwrapExp(self, expression):\n",
    "        deps = self.depsFromExp(expression)\n",
    "        subValues\n",
    "    \n",
    "    def exp(self):\n",
    "        return self.expressionList[-1]\n",
    "\n",
    "    def substitute\n",
    "    \n",
    "    \n",
    "    def substitute(self, expression, forDisplay = False):\n",
    "        subObject = {}\n",
    "        for dep in self.dependencies:\n",
    "            depName = str(dep)\n",
    "            depParameter = self.parentCollection[depName]\n",
    "            subObject = \n",
    "            subObject[depName] = UnevaluatedExpr(depParameter.value)\n",
    "        print(subObject)\n",
    "        return expression.subs(subObject)\n",
    "        \n",
    "    def evaluate(self, precision = defaultPrecision):\n",
    "#         expression = self.substitute().n(precision)\n",
    "        self.quantity = ureg(str(expression))\n",
    "        \n",
    "P = ParameterCollection()\n",
    "P.add(\"xCoord\", \"x_l\", 20*mm, mm, \"none\")\n",
    "P.add(\"yCoord\", \"y_l\", x_l / 2, mm, \"none\")\n",
    "P.add(\"overallLength\", \"l\", sqrt(xCoord ** 2 + yCoord ** 2), mm, \"none\")\n",
    "\n",
    "print(P[\"x_l\"].dependencies)\n",
    "print(P[\"y_l\"].dependencies)\n",
    "print(P[\"l\"].dependencies)\n",
    "\n",
    "print(P[\"x_l\"].value)\n",
    "print(P[\"y_l\"].value)\n",
    "print(P[\"l\"].value)\n",
    "\n",
    "display(P[\"l\"].exp())"
   ]
  },
  {
   "cell_type": "code",
   "execution_count": null,
   "id": "76f5cdf9-4d7c-4599-b8c9-6fe227ff0624",
   "metadata": {},
   "outputs": [],
   "source": []
  },
  {
   "cell_type": "code",
   "execution_count": null,
   "id": "dc041730-8dea-4481-a67d-fb3e8fcc9245",
   "metadata": {},
   "outputs": [],
   "source": []
  }
 ],
 "metadata": {
  "kernelspec": {
   "display_name": "Python 3 (ipykernel)",
   "language": "python",
   "name": "python3"
  },
  "language_info": {
   "codemirror_mode": {
    "name": "ipython",
    "version": 3
   },
   "file_extension": ".py",
   "mimetype": "text/x-python",
   "name": "python",
   "nbconvert_exporter": "python",
   "pygments_lexer": "ipython3",
   "version": "3.9.6"
  }
 },
 "nbformat": 4,
 "nbformat_minor": 5
}
