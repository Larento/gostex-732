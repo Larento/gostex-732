{
 "cells": [
  {
   "cell_type": "code",
   "execution_count": 35,
   "source": [
    "from sympy import *\n",
    "from sympy.physics.units import *\n",
    "from sympy.physics.units import convert_to\n",
    "\n",
    "import pint\n",
    "ureg = pint.UnitRegistry()"
   ],
   "outputs": [],
   "metadata": {
    "tags": []
   }
  },
  {
   "cell_type": "code",
   "execution_count": 36,
   "source": [
    "class ParameterCollection(dict):\n",
    "    def __init__(self):\n",
    "        self.declaredSymbols = set()\n",
    "        \n",
    "    def add(self, name, symbol, expression, unit, description = \"none\"):\n",
    "        declaredSymbols = set(map(lambda symbol: str(symbol), list(self.declaredSymbols)))\n",
    "        \n",
    "        if symbol in declaredSymbols:\n",
    "            raise ValueError('Error adding new parameter: Parameter symbol already exists! Choose another name.')\n",
    "        \n",
    "        newParameter = Parameter(name, symbol, expression, unit, description, self)\n",
    "        self[name] = newParameter\n",
    "        self[symbol] = newParameter\n",
    "        self.declaredSymbols.add(newParameter.symbol)\n",
    "        return newParameter\n",
    "    \n",
    "class Parameter:\n",
    "    defaultPrecision = 3\n",
    "    \n",
    "    def __init__(self, name, symbol, expression, unit, description, parentCollection):\n",
    "        self.parentCollection = parentCollection\n",
    "        self.name = name\n",
    "        self.symbol = Symbol(symbol)\n",
    "        globals()[symbol] = self.symbol\n",
    "        globals()[name] = self.symbol\n",
    "        \n",
    "        self.subscriptItalics = []\n",
    "        self.description = description\n",
    "        self.descriptionDisplayed = False\n",
    "        self.unit = ureg(str(unit))\n",
    "        self.expressionList = []\n",
    "\n",
    "        self.appendExp(expression)\n",
    "    \n",
    "    def appendExp(self, expression):\n",
    "        self.expressionList.append(sympify(expression, evaluate = False))\n",
    "        self.dependencies = self.depsFromExp(self.exp())\n",
    "        self.evaluate()\n",
    "\n",
    "        if not self.checkDim():\n",
    "            raise ValueError(\"Error adding new parameter: User-input units don't match with evaluated units! Please check the dimensionality.\")\n",
    "\n",
    "    def exp(self):\n",
    "        return self.expressionList[-1]\n",
    "\n",
    "    def depsFromExp(self, expression):\n",
    "        unfilteredSymbols = set(expression.atoms(Symbol))\n",
    "        declaredSymbols = self.parentCollection.declaredSymbols\n",
    "        return unfilteredSymbols & declaredSymbols\n",
    "    \n",
    "    def unwrapExp(self):\n",
    "        expression = self.exp()\n",
    "        deps = self.depsFromExp(expression)\n",
    "        while len(deps) != 0:\n",
    "                expression = self.substitute(expression, deps)\n",
    "                deps = self.depsFromExp(expression)\n",
    "        return expression\n",
    "    \n",
    "    def substitute(self, expression, dependencies, forDisplay = False):\n",
    "        subObject = {}\n",
    "        for dep in dependencies:\n",
    "            depName = str(dep)\n",
    "            depParameter = self.parentCollection[depName]\n",
    "            depObject = depParameter.exp()\n",
    "            if forDisplay:\n",
    "                depObject = UnevaluatedExpr(depParameter.quantity.magnitude)\n",
    "            subObject[depName] = depObject\n",
    "        return expression.subs(subObject)\n",
    "        \n",
    "    def evaluate(self, precision = defaultPrecision):\n",
    "        expression = self.unwrapExp().n(precision)\n",
    "        self.quantity = ureg(str(expression))\n",
    "\n",
    "    def checkDim(self):\n",
    "        return (self.quantity.dimensionality == self.unit.dimensionality)\n",
    "\n",
    "    def redefine(self, newExpression):\n",
    "        self.appendExp(newExpression)\n",
    "        \n",
    "P = ParameterCollection()\n",
    "P.add(\"xCoord\", \"x_l\", 20*mm, m)\n",
    "P.add(\"yCoord\", \"y_l\", x_l / 2, mm)\n",
    "P.add(\"overallLength\", \"l\", sqrt(xCoord ** 2 + yCoord ** 2), mm)\n",
    "\n",
    "print(P[\"x_l\"].dependencies)\n",
    "print(P[\"y_l\"].dependencies)\n",
    "print(P[\"l\"].dependencies)\n",
    "\n",
    "print(P[\"x_l\"].quantity)\n",
    "print(P[\"y_l\"].quantity)\n",
    "print(P[\"l\"].quantity)\n",
    "\n",
    "display(P[\"l\"].substitute(P[\"l\"].exp(), P[\"l\"].dependencies, true))"
   ],
   "outputs": [
    {
     "output_type": "error",
     "ename": "ValueError",
     "evalue": "Error adding new parameter: User-input units don't match with evaluated units! Please check the dimensionality.",
     "traceback": [
      "\u001b[0;31m---------------------------------------------------------------------------\u001b[0m",
      "\u001b[0;31mValueError\u001b[0m                                Traceback (most recent call last)",
      "\u001b[0;32m/var/folders/9f/fmc87g9519d2v82wjw8bp9lm0000gn/T/ipykernel_89356/3998742407.py\u001b[0m in \u001b[0;36m<module>\u001b[0;34m\u001b[0m\n\u001b[1;32m     78\u001b[0m \u001b[0;34m\u001b[0m\u001b[0m\n\u001b[1;32m     79\u001b[0m \u001b[0mP\u001b[0m \u001b[0;34m=\u001b[0m \u001b[0mParameterCollection\u001b[0m\u001b[0;34m(\u001b[0m\u001b[0;34m)\u001b[0m\u001b[0;34m\u001b[0m\u001b[0;34m\u001b[0m\u001b[0m\n\u001b[0;32m---> 80\u001b[0;31m \u001b[0mP\u001b[0m\u001b[0;34m.\u001b[0m\u001b[0madd\u001b[0m\u001b[0;34m(\u001b[0m\u001b[0;34m\"xCoord\"\u001b[0m\u001b[0;34m,\u001b[0m \u001b[0;34m\"x_l\"\u001b[0m\u001b[0;34m,\u001b[0m \u001b[0;36m20\u001b[0m\u001b[0;34m*\u001b[0m\u001b[0mmm\u001b[0m\u001b[0;34m,\u001b[0m \u001b[0mkg\u001b[0m\u001b[0;34m,\u001b[0m \u001b[0;34m\"none\"\u001b[0m\u001b[0;34m)\u001b[0m\u001b[0;34m\u001b[0m\u001b[0;34m\u001b[0m\u001b[0m\n\u001b[0m\u001b[1;32m     81\u001b[0m \u001b[0mP\u001b[0m\u001b[0;34m.\u001b[0m\u001b[0madd\u001b[0m\u001b[0;34m(\u001b[0m\u001b[0;34m\"yCoord\"\u001b[0m\u001b[0;34m,\u001b[0m \u001b[0;34m\"y_l\"\u001b[0m\u001b[0;34m,\u001b[0m \u001b[0mx_l\u001b[0m \u001b[0;34m/\u001b[0m \u001b[0;36m2\u001b[0m\u001b[0;34m,\u001b[0m \u001b[0mkg\u001b[0m\u001b[0;34m,\u001b[0m \u001b[0;34m\"none\"\u001b[0m\u001b[0;34m)\u001b[0m\u001b[0;34m\u001b[0m\u001b[0;34m\u001b[0m\u001b[0m\n\u001b[1;32m     82\u001b[0m \u001b[0mP\u001b[0m\u001b[0;34m.\u001b[0m\u001b[0madd\u001b[0m\u001b[0;34m(\u001b[0m\u001b[0;34m\"overallLength\"\u001b[0m\u001b[0;34m,\u001b[0m \u001b[0;34m\"l\"\u001b[0m\u001b[0;34m,\u001b[0m \u001b[0msqrt\u001b[0m\u001b[0;34m(\u001b[0m\u001b[0mxCoord\u001b[0m \u001b[0;34m**\u001b[0m \u001b[0;36m2\u001b[0m \u001b[0;34m+\u001b[0m \u001b[0myCoord\u001b[0m \u001b[0;34m**\u001b[0m \u001b[0;36m2\u001b[0m\u001b[0;34m)\u001b[0m\u001b[0;34m,\u001b[0m \u001b[0mmm\u001b[0m\u001b[0;34m,\u001b[0m \u001b[0;34m\"none\"\u001b[0m\u001b[0;34m)\u001b[0m\u001b[0;34m\u001b[0m\u001b[0;34m\u001b[0m\u001b[0m\n",
      "\u001b[0;32m/var/folders/9f/fmc87g9519d2v82wjw8bp9lm0000gn/T/ipykernel_89356/3998742407.py\u001b[0m in \u001b[0;36madd\u001b[0;34m(self, name, symbol, expression, unit, description)\u001b[0m\n\u001b[1;32m      9\u001b[0m             \u001b[0;32mraise\u001b[0m \u001b[0mValueError\u001b[0m\u001b[0;34m(\u001b[0m\u001b[0;34m'Error adding new parameter: Parameter symbol already exists! Choose another name.'\u001b[0m\u001b[0;34m)\u001b[0m\u001b[0;34m\u001b[0m\u001b[0;34m\u001b[0m\u001b[0m\n\u001b[1;32m     10\u001b[0m \u001b[0;34m\u001b[0m\u001b[0m\n\u001b[0;32m---> 11\u001b[0;31m         \u001b[0mnewParameter\u001b[0m \u001b[0;34m=\u001b[0m \u001b[0mParameter\u001b[0m\u001b[0;34m(\u001b[0m\u001b[0mname\u001b[0m\u001b[0;34m,\u001b[0m \u001b[0msymbol\u001b[0m\u001b[0;34m,\u001b[0m \u001b[0mexpression\u001b[0m\u001b[0;34m,\u001b[0m \u001b[0munit\u001b[0m\u001b[0;34m,\u001b[0m \u001b[0mdescription\u001b[0m\u001b[0;34m,\u001b[0m \u001b[0mself\u001b[0m\u001b[0;34m)\u001b[0m\u001b[0;34m\u001b[0m\u001b[0;34m\u001b[0m\u001b[0m\n\u001b[0m\u001b[1;32m     12\u001b[0m         \u001b[0mself\u001b[0m\u001b[0;34m[\u001b[0m\u001b[0mname\u001b[0m\u001b[0;34m]\u001b[0m \u001b[0;34m=\u001b[0m \u001b[0mnewParameter\u001b[0m\u001b[0;34m\u001b[0m\u001b[0;34m\u001b[0m\u001b[0m\n\u001b[1;32m     13\u001b[0m         \u001b[0mself\u001b[0m\u001b[0;34m[\u001b[0m\u001b[0msymbol\u001b[0m\u001b[0;34m]\u001b[0m \u001b[0;34m=\u001b[0m \u001b[0mnewParameter\u001b[0m\u001b[0;34m\u001b[0m\u001b[0;34m\u001b[0m\u001b[0m\n",
      "\u001b[0;32m/var/folders/9f/fmc87g9519d2v82wjw8bp9lm0000gn/T/ipykernel_89356/3998742407.py\u001b[0m in \u001b[0;36m__init__\u001b[0;34m(self, name, symbol, expression, unit, description, parentCollection)\u001b[0m\n\u001b[1;32m     41\u001b[0m \u001b[0;34m\u001b[0m\u001b[0m\n\u001b[1;32m     42\u001b[0m         \u001b[0;32mif\u001b[0m \u001b[0;32mnot\u001b[0m \u001b[0mself\u001b[0m\u001b[0;34m.\u001b[0m\u001b[0mcheckDim\u001b[0m\u001b[0;34m(\u001b[0m\u001b[0;34m)\u001b[0m\u001b[0;34m:\u001b[0m\u001b[0;34m\u001b[0m\u001b[0;34m\u001b[0m\u001b[0m\n\u001b[0;32m---> 43\u001b[0;31m             \u001b[0;32mraise\u001b[0m \u001b[0mValueError\u001b[0m\u001b[0;34m(\u001b[0m\u001b[0;34m\"Error adding new parameter: User-input units don't match with evaluated units! Please check the dimensionality.\"\u001b[0m\u001b[0;34m)\u001b[0m\u001b[0;34m\u001b[0m\u001b[0;34m\u001b[0m\u001b[0m\n\u001b[0m\u001b[1;32m     44\u001b[0m \u001b[0;34m\u001b[0m\u001b[0m\n\u001b[1;32m     45\u001b[0m     \u001b[0;32mdef\u001b[0m \u001b[0mexp\u001b[0m\u001b[0;34m(\u001b[0m\u001b[0mself\u001b[0m\u001b[0;34m)\u001b[0m\u001b[0;34m:\u001b[0m\u001b[0;34m\u001b[0m\u001b[0;34m\u001b[0m\u001b[0m\n",
      "\u001b[0;31mValueError\u001b[0m: Error adding new parameter: User-input units don't match with evaluated units! Please check the dimensionality."
     ]
    }
   ],
   "metadata": {
    "tags": []
   }
  }
 ],
 "metadata": {
  "kernelspec": {
   "name": "python3",
   "display_name": "Python 3.9.6 64-bit"
  },
  "language_info": {
   "name": "python",
   "version": "3.9.6",
   "mimetype": "text/x-python",
   "codemirror_mode": {
    "name": "ipython",
    "version": 3
   },
   "pygments_lexer": "ipython3",
   "nbconvert_exporter": "python",
   "file_extension": ".py"
  },
  "interpreter": {
   "hash": "aee8b7b246df8f9039afb4144a1f6fd8d2ca17a180786b69acc140d282b71a49"
  }
 },
 "nbformat": 4,
 "nbformat_minor": 5
}