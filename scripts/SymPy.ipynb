{
 "cells": [
  {
   "cell_type": "code",
   "execution_count": 33,
   "source": [
    "from sympy import *\n",
    "from sympy.physics.units import *\n",
    "from sympy.physics.units import convert_to\n",
    "from IPython.display import Latex\n",
    "import pint\n",
    "ureg = pint.UnitRegistry()"
   ],
   "outputs": [],
   "metadata": {
    "tags": []
   }
  },
  {
   "cell_type": "code",
   "execution_count": 34,
   "source": [
    "class ParameterCollection(dict):\n",
    "    def __init__(self):\n",
    "        self.declaredSymbols = set()\n",
    "        \n",
    "    def add(self, name, symbol, expression, unit, description = \"none\"):\n",
    "        declaredSymbols = set(map(lambda symbol: str(symbol), list(self.declaredSymbols)))\n",
    "        \n",
    "        if symbol in declaredSymbols:\n",
    "            raise ValueError('Error adding new parameter: Parameter symbol already exists! Choose another name.')\n",
    "        \n",
    "        newParameter = Parameter(name, symbol, expression, unit, description, self)\n",
    "        self[name] = newParameter\n",
    "        self[symbol] = newParameter\n",
    "        self.declaredSymbols.add(newParameter.symbol)\n",
    "        return newParameter\n",
    "    \n",
    "class Parameter:\n",
    "    defaultPrecision = 3\n",
    "    \n",
    "    def __init__(self, name, symbol, expression, unit, description, parentCollection):\n",
    "        self.parentCollection = parentCollection\n",
    "        self.name = name\n",
    "        self.symbol = Symbol(symbol)\n",
    "        globals()[symbol] = self.symbol\n",
    "        globals()[name] = self.symbol\n",
    "        \n",
    "        self.subscriptItalics = []\n",
    "        self.description = description\n",
    "        self.descriptionDisplayed = False\n",
    "        self.unit = ureg(str(unit))\n",
    "        self.expressionList = []\n",
    "\n",
    "        self.appendExp(expression)\n",
    "    \n",
    "    def appendExp(self, expression):\n",
    "        self.expressionList.append(sympify(expression, evaluate = False))\n",
    "        self.dependencies = self.depsFromExp(self.exp())\n",
    "        self.evaluate()\n",
    "\n",
    "        if not self.checkDim():\n",
    "            raise ValueError(\"Error adding new parameter: User-input units don't match with evaluated units! Please check the dimensionality.\")\n",
    "\n",
    "    def exp(self):\n",
    "        return self.expressionList[-1]\n",
    "\n",
    "    def depsFromExp(self, expression):\n",
    "        unfilteredSymbols = set(expression.atoms(Symbol))\n",
    "        declaredSymbols = self.parentCollection.declaredSymbols\n",
    "        return unfilteredSymbols & declaredSymbols\n",
    "    \n",
    "    def unwrapExp(self):\n",
    "        expression = self.exp()\n",
    "        deps = self.depsFromExp(expression)\n",
    "        while len(deps) != 0:\n",
    "                expression = self.substitute(expression, deps)\n",
    "                deps = self.depsFromExp(expression)\n",
    "        return expression\n",
    "    \n",
    "    def substitute(self, expression, dependencies, forDisplay = False):\n",
    "        subObject = {}\n",
    "        for dep in dependencies:\n",
    "            depName = str(dep)\n",
    "            depParameter = self.parentCollection[depName]\n",
    "            depObject = depParameter.exp()\n",
    "            if forDisplay:\n",
    "                depObject = UnevaluatedExpr(depParameter.quantity.magnitude)\n",
    "            subObject[depName] = depObject\n",
    "        return expression.subs(subObject)\n",
    "        \n",
    "    def evaluate(self, precision = defaultPrecision):\n",
    "        expression = self.unwrapExp().n(precision)\n",
    "        self.quantity = ureg(str(expression))\n",
    "\n",
    "    def checkDim(self):\n",
    "        return (self.quantity.dimensionality == self.unit.dimensionality)\n",
    "\n",
    "    def hasSelfReference(self, expression):\n",
    "        deps = self.depsFromExp(expression)\n",
    "        return self.symbol in deps\n",
    "\n",
    "    def redefine(self, newExpression):\n",
    "        deps = set()\n",
    "        deps.add(self.symbol)\n",
    "        if self.hasSelfReference(newExpression):\n",
    "            newExpression = self.substitute(newExpression, deps)\n",
    "        self.appendExp(newExpression)\n",
    "        \n",
    "    def laDeclaration(self):\n",
    "        return latex(self.symbol)\n",
    "\n",
    "    def laDefinition(self):\n",
    "        return latex(self.exp(), mul_symbol = \"times\")\n",
    "\n",
    "    def laSubstitution(self):\n",
    "        expression = self.exp()\n",
    "        return latex(self.substitute(expression, self.depsFromExp(expression), True), mul_symbol = \"times\")\n",
    "\n",
    "    def laEvaluation(self):\n",
    "        return \"{:Lx}\".format(self.quantity)\n",
    "\n",
    "    def wow(self):\n",
    "        return self.laDeclaration() + \" = \" + self.laDefinition() + \" = \" + self.laSubstitution() + \" = \" + self.laEvaluation()\n",
    "\n",
    "P = ParameterCollection()\n",
    "P.add(\"xCoord\", \"x_l\", 20*mm, mm)\n",
    "P.add(\"yCoord\", \"y_l\", x_l / 2, mm)\n",
    "P.add(\"overallLength\", \"l\", sqrt(xCoord ** 2 + yCoord ** 2), mm)\n",
    "\n",
    "print(P[\"x_l\"].dependencies)\n",
    "print(P[\"y_l\"].dependencies)\n",
    "print(P[\"l\"].dependencies)\n",
    "\n",
    "print(P[\"x_l\"].quantity)\n",
    "print(P[\"y_l\"].quantity)\n",
    "print(P[\"l\"].quantity)\n",
    "\n",
    "display(P[\"l\"].substitute(P[\"l\"].exp(), P[\"l\"].dependencies, true))\n",
    "\n",
    "P[\"y_l\"].redefine(yCoord * 4)\n",
    "\n",
    "print(P[\"y_l\"].exp())\n",
    "print(P[\"y_l\"].quantity)\n",
    "\n",
    "display(P[\"y_l\"].wow())"
   ],
   "outputs": [
    {
     "output_type": "stream",
     "name": "stdout",
     "text": [
      "set()\n",
      "{x_l}\n",
      "{y_l, x_l}\n",
      "20.0 millimeter\n",
      "10.0 millimeter\n",
      "22.4 millimeter\n"
     ]
    },
    {
     "output_type": "display_data",
     "data": {
      "text/latex": [
       "$\\displaystyle \\sqrt{10.0^{2} + 20.0^{2}}$"
      ],
      "text/plain": [
       "sqrt(10.0**2 + 20.0**2)"
      ]
     },
     "metadata": {}
    },
    {
     "output_type": "stream",
     "name": "stdout",
     "text": [
      "2*x_l\n",
      "40.0 millimeter\n"
     ]
    },
    {
     "output_type": "display_data",
     "data": {
      "text/plain": [
       "'y_{l} = 2 \\\\times x_{l} = 2 \\\\times 20.0 = \\\\SI[]{40.0}{\\\\milli\\\\meter}'"
      ]
     },
     "metadata": {}
    }
   ],
   "metadata": {
    "tags": []
   }
  }
 ],
 "metadata": {
  "kernelspec": {
   "name": "python3",
   "display_name": "Python 3.9.6 64-bit"
  },
  "language_info": {
   "name": "python",
   "version": "3.9.6",
   "mimetype": "text/x-python",
   "codemirror_mode": {
    "name": "ipython",
    "version": 3
   },
   "pygments_lexer": "ipython3",
   "nbconvert_exporter": "python",
   "file_extension": ".py"
  },
  "interpreter": {
   "hash": "aee8b7b246df8f9039afb4144a1f6fd8d2ca17a180786b69acc140d282b71a49"
  }
 },
 "nbformat": 4,
 "nbformat_minor": 5
}