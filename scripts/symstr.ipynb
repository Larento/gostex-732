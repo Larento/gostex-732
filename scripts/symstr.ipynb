{
 "cells": [
  {
   "cell_type": "code",
   "execution_count": 206,
   "metadata": {},
   "outputs": [],
   "source": [
    "from sympy import *\n",
    "from sympy.physics.units import *\n",
    "import pint\n",
    "ureg = pint.UnitRegistry(auto_reduce_dimensions=True)\n",
    "import re\n",
    "from unyt import N, m, s, kg, mm, MPa, unyt_quantity"
   ]
  },
  {
   "cell_type": "code",
   "execution_count": 207,
   "metadata": {},
   "outputs": [],
   "source": [
    "prefixes = [\n",
    "    \"yocto\",\n",
    "    \"zepto\",\n",
    "    \"atto\",\n",
    "    \"femto\",\n",
    "    \"pico\",\n",
    "    \"nano\",\n",
    "    \"micro\",\n",
    "    \"milli\",\n",
    "    \"centi\",\n",
    "    \"deci\",\n",
    "    \"deca\",\n",
    "    \"hecto\",\n",
    "    \"kilo\",\n",
    "    \"mega\",\n",
    "    \"giga\",\n",
    "    \"tera\",\n",
    "    \"peta\",\n",
    "    \"exa\",\n",
    "    \"zetta\",\n",
    "    \"yotta\",\n",
    "]\n",
    "\n",
    "baseUnits = [\n",
    "    \"newton\",\n",
    "    \"meter\",\n",
    "    \"joule\"\n",
    "]\n",
    "\n",
    "def createUnitsDict(prefixes, baseUnits):\n",
    "    dict = {}\n",
    "    for u in baseUnits:\n",
    "        dict[u] = globals()[u]\n",
    "        for p in prefixes:\n",
    "            dict[p + u] = globals()[p].scale_factor * globals()[u]\n",
    "    return dict\n",
    "\n",
    "unitDict = createUnitsDict(prefixes, baseUnits)\n",
    "\n",
    "def symparse(expStr):\n",
    "    return parse_expr(expStr, local_dict=unitDict, evaluate=False)\n",
    "\n",
    "def parseParamStr(string):\n",
    "    tokens = string.split('=')\n",
    "    return list(map(lambda s: s.strip(), tokens))\n",
    "\n",
    "def parseInlineExp(expStr):\n",
    "    return re.findall(r'\\[(.*?)\\]', expStr)\n",
    "\n",
    "def convertToPint(inlineParams):\n",
    "    return list(map(lambda p: ureg(p), inlineParams))\n",
    "\n",
    "def convertToSym(matchObj):\n",
    "    wholeStr = matchObj.group(0)\n",
    "    unitStr = matchObj.group(1)\n",
    "    return wholeStr.replace(unitStr, \"* (\" + str(ureg(unitStr).u) + \")\").replace(\"[\", \"\").replace(\"]\", \"\")"
   ]
  },
  {
   "cell_type": "code",
   "execution_count": 208,
   "metadata": {},
   "outputs": [
    {
     "name": "stdout",
     "output_type": "stream",
     "text": [
      "1000000 * (millinewton)\n",
      "1000000*(newton/1000)\n",
      "1000 N\n"
     ]
    }
   ],
   "source": [
    "paramStr = \"a = [1000000 millinewton] = m = parameterA\"\n",
    "paramTokens = parseParamStr(paramStr)\n",
    "inlineParams = convertToPint(parseInlineExp(paramTokens[1]))\n",
    "inlineUnits = list(map(lambda p: str(p.u), inlineParams))\n",
    "\n",
    "exx = re.sub(r'\\[.*?\\s(.*?)\\]', convertToSym, paramTokens[1])\n",
    "exp = symparse(exx).simplify()\n",
    "print(exx)\n",
    "print(symparse(exx))\n",
    "a = ureg(str(exp))\n",
    "b = unyt_quantity.from_pint(a)\n",
    "print(str(b))"
   ]
  }
 ],
 "metadata": {
  "interpreter": {
   "hash": "aee8b7b246df8f9039afb4144a1f6fd8d2ca17a180786b69acc140d282b71a49"
  },
  "kernelspec": {
   "display_name": "Python 3.9.6 64-bit",
   "name": "python3"
  },
  "language_info": {
   "codemirror_mode": {
    "name": "ipython",
    "version": 3
   },
   "file_extension": ".py",
   "mimetype": "text/x-python",
   "name": "python",
   "nbconvert_exporter": "python",
   "pygments_lexer": "ipython3",
   "version": "3.9.6"
  },
  "orig_nbformat": 4
 },
 "nbformat": 4,
 "nbformat_minor": 2
}
